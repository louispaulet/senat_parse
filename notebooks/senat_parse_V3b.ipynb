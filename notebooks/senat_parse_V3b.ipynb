{
  "nbformat": 4,
  "nbformat_minor": 0,
  "metadata": {
    "colab": {
      "name": "senat parse V3b.ipynb",
      "provenance": []
    },
    "kernelspec": {
      "name": "python3",
      "display_name": "Python 3"
    },
    "language_info": {
      "name": "python"
    }
  },
  "cells": [
    {
      "cell_type": "markdown",
      "source": [
        "# Third Notebook: Senat Parse project - part B\n",
        "\n",
        "Nobliity extraction: does it matter, and how ?"
      ],
      "metadata": {
        "id": "pqMDaYD3HgUu"
      }
    },
    {
      "cell_type": "markdown",
      "source": [
        "# Libs and data import"
      ],
      "metadata": {
        "id": "AJgvMYArHpMO"
      }
    },
    {
      "cell_type": "code",
      "source": [
        "import pandas as pd\n",
        "import numpy as np\n",
        "import seaborn as sns\n",
        "import matplotlib.pyplot as plt\n"
      ],
      "metadata": {
        "id": "WdFFVOuNHizV"
      },
      "execution_count": null,
      "outputs": []
    },
    {
      "cell_type": "code",
      "execution_count": null,
      "metadata": {
        "id": "aMw-jqTEH5I8"
      },
      "outputs": [],
      "source": [
        "df = pd.read_csv('/content/drive/MyDrive/Colab Notebooks/ressources/senat_parse/complete_database/complete_debate_database.csv', sep=';', encoding='utf-8', index_col=0)"
      ]
    },
    {
      "cell_type": "code",
      "source": [
        "df"
      ],
      "metadata": {
        "colab": {
          "base_uri": "https://localhost:8080/",
          "height": 641
        },
        "id": "GdRY7kfHIO8-",
        "outputId": "b0267a36-48d4-455a-b55b-5e435360a51e"
      },
      "execution_count": null,
      "outputs": [
        {
          "output_type": "execute_result",
          "data": {
            "text/html": [
              "\n",
              "  <div id=\"df-03b749a0-696e-45d0-ae87-fa7ec9688104\">\n",
              "    <div class=\"colab-df-container\">\n",
              "      <div>\n",
              "<style scoped>\n",
              "    .dataframe tbody tr th:only-of-type {\n",
              "        vertical-align: middle;\n",
              "    }\n",
              "\n",
              "    .dataframe tbody tr th {\n",
              "        vertical-align: top;\n",
              "    }\n",
              "\n",
              "    .dataframe thead th {\n",
              "        text-align: right;\n",
              "    }\n",
              "</style>\n",
              "<table border=\"1\" class=\"dataframe\">\n",
              "  <thead>\n",
              "    <tr style=\"text-align: right;\">\n",
              "      <th></th>\n",
              "      <th>date</th>\n",
              "      <th>title</th>\n",
              "      <th>speaker_name</th>\n",
              "      <th>speaker_quality</th>\n",
              "      <th>speaker_link</th>\n",
              "      <th>speaker_intervention</th>\n",
              "    </tr>\n",
              "  </thead>\n",
              "  <tbody>\n",
              "    <tr>\n",
              "      <th>0</th>\n",
              "      <td>2016-05-03</td>\n",
              "      <td>Séance du 3 mai 2016 (compte rendu intégral de...</td>\n",
              "      <td>M. le président.</td>\n",
              "      <td>NaN</td>\n",
              "      <td>/senateur/larcher_gerard86034e.html</td>\n",
              "      <td>(La séance est ouverte à quinze heures quinze.)</td>\n",
              "    </tr>\n",
              "    <tr>\n",
              "      <th>1</th>\n",
              "      <td>2016-05-03</td>\n",
              "      <td>Séance du 3 mai 2016 (compte rendu intégral de...</td>\n",
              "      <td>M. le président</td>\n",
              "      <td>NaN</td>\n",
              "      <td>/senateur/larcher_gerard86034e.html</td>\n",
              "      <td>Il n’y a pas d’observation ?…</td>\n",
              "    </tr>\n",
              "    <tr>\n",
              "      <th>2</th>\n",
              "      <td>2016-05-03</td>\n",
              "      <td>Séance du 3 mai 2016 (compte rendu intégral de...</td>\n",
              "      <td>M. le président.</td>\n",
              "      <td>NaN</td>\n",
              "      <td>/senateur/larcher_gerard86034e.html</td>\n",
              "      <td>Avant de passer au scrutin, je vais donner la ...</td>\n",
              "    </tr>\n",
              "    <tr>\n",
              "      <th>3</th>\n",
              "      <td>2016-05-03</td>\n",
              "      <td>Séance du 3 mai 2016 (compte rendu intégral de...</td>\n",
              "      <td>M. le président.</td>\n",
              "      <td>NaN</td>\n",
              "      <td>/senateur/larcher_gerard86034e.html</td>\n",
              "      <td>La parole est à Mme Corinne Bouchoux, pour le ...</td>\n",
              "    </tr>\n",
              "    <tr>\n",
              "      <th>4</th>\n",
              "      <td>2016-05-03</td>\n",
              "      <td>Séance du 3 mai 2016 (compte rendu intégral de...</td>\n",
              "      <td>Mme Corinne Bouchoux.</td>\n",
              "      <td>NaN</td>\n",
              "      <td>/senateur/bouchoux_corinne11029k.html</td>\n",
              "      <td>Sur la base d’une méthode originale, les avis ...</td>\n",
              "    </tr>\n",
              "    <tr>\n",
              "      <th>...</th>\n",
              "      <td>...</td>\n",
              "      <td>...</td>\n",
              "      <td>...</td>\n",
              "      <td>...</td>\n",
              "      <td>...</td>\n",
              "      <td>...</td>\n",
              "    </tr>\n",
              "    <tr>\n",
              "      <th>20</th>\n",
              "      <td>2008-01-09</td>\n",
              "      <td>Séance du 9 janvier 2008 (compte rendu intégra...</td>\n",
              "      <td>Mme Christine Lagarde,</td>\n",
              "      <td>ministre.</td>\n",
              "      <td>NaN</td>\n",
              "      <td>Le troisième constat, c'est que la voie du « r...</td>\n",
              "    </tr>\n",
              "    <tr>\n",
              "      <th>21</th>\n",
              "      <td>2008-01-09</td>\n",
              "      <td>Séance du 9 janvier 2008 (compte rendu intégra...</td>\n",
              "      <td>M. Nicolas About,</td>\n",
              "      <td>président de la commission des affaires sociales.</td>\n",
              "      <td>/senfic/about_nicolas95004y.html</td>\n",
              "      <td>M. Nicolas About, président de la commission d...</td>\n",
              "    </tr>\n",
              "    <tr>\n",
              "      <th>22</th>\n",
              "      <td>2008-01-09</td>\n",
              "      <td>Séance du 9 janvier 2008 (compte rendu intégra...</td>\n",
              "      <td>Mme Christine Lagarde,</td>\n",
              "      <td>ministre.</td>\n",
              "      <td>NaN</td>\n",
              "      <td>Tout cela doit permettre de mettre en place ra...</td>\n",
              "    </tr>\n",
              "    <tr>\n",
              "      <th>23</th>\n",
              "      <td>2008-01-09</td>\n",
              "      <td>Séance du 9 janvier 2008 (compte rendu intégra...</td>\n",
              "      <td>M. le président.</td>\n",
              "      <td>NaN</td>\n",
              "      <td>/senfic/gouteyron_adrien78006d.html</td>\n",
              "      <td>M. le président. La parole est à Mme le rappor...</td>\n",
              "    </tr>\n",
              "    <tr>\n",
              "      <th>24</th>\n",
              "      <td>2008-01-09</td>\n",
              "      <td>Séance du 9 janvier 2008 (compte rendu intégra...</td>\n",
              "      <td>Mme Catherine Procaccia,</td>\n",
              "      <td>rapporteur de la commission des affaires socia...</td>\n",
              "      <td>/senfic/procaccia_catherine04043d.html</td>\n",
              "      <td>Cette réforme est ambitieuse, car ces deux org...</td>\n",
              "    </tr>\n",
              "  </tbody>\n",
              "</table>\n",
              "<p>110808 rows × 6 columns</p>\n",
              "</div>\n",
              "      <button class=\"colab-df-convert\" onclick=\"convertToInteractive('df-03b749a0-696e-45d0-ae87-fa7ec9688104')\"\n",
              "              title=\"Convert this dataframe to an interactive table.\"\n",
              "              style=\"display:none;\">\n",
              "        \n",
              "  <svg xmlns=\"http://www.w3.org/2000/svg\" height=\"24px\"viewBox=\"0 0 24 24\"\n",
              "       width=\"24px\">\n",
              "    <path d=\"M0 0h24v24H0V0z\" fill=\"none\"/>\n",
              "    <path d=\"M18.56 5.44l.94 2.06.94-2.06 2.06-.94-2.06-.94-.94-2.06-.94 2.06-2.06.94zm-11 1L8.5 8.5l.94-2.06 2.06-.94-2.06-.94L8.5 2.5l-.94 2.06-2.06.94zm10 10l.94 2.06.94-2.06 2.06-.94-2.06-.94-.94-2.06-.94 2.06-2.06.94z\"/><path d=\"M17.41 7.96l-1.37-1.37c-.4-.4-.92-.59-1.43-.59-.52 0-1.04.2-1.43.59L10.3 9.45l-7.72 7.72c-.78.78-.78 2.05 0 2.83L4 21.41c.39.39.9.59 1.41.59.51 0 1.02-.2 1.41-.59l7.78-7.78 2.81-2.81c.8-.78.8-2.07 0-2.86zM5.41 20L4 18.59l7.72-7.72 1.47 1.35L5.41 20z\"/>\n",
              "  </svg>\n",
              "      </button>\n",
              "      \n",
              "  <style>\n",
              "    .colab-df-container {\n",
              "      display:flex;\n",
              "      flex-wrap:wrap;\n",
              "      gap: 12px;\n",
              "    }\n",
              "\n",
              "    .colab-df-convert {\n",
              "      background-color: #E8F0FE;\n",
              "      border: none;\n",
              "      border-radius: 50%;\n",
              "      cursor: pointer;\n",
              "      display: none;\n",
              "      fill: #1967D2;\n",
              "      height: 32px;\n",
              "      padding: 0 0 0 0;\n",
              "      width: 32px;\n",
              "    }\n",
              "\n",
              "    .colab-df-convert:hover {\n",
              "      background-color: #E2EBFA;\n",
              "      box-shadow: 0px 1px 2px rgba(60, 64, 67, 0.3), 0px 1px 3px 1px rgba(60, 64, 67, 0.15);\n",
              "      fill: #174EA6;\n",
              "    }\n",
              "\n",
              "    [theme=dark] .colab-df-convert {\n",
              "      background-color: #3B4455;\n",
              "      fill: #D2E3FC;\n",
              "    }\n",
              "\n",
              "    [theme=dark] .colab-df-convert:hover {\n",
              "      background-color: #434B5C;\n",
              "      box-shadow: 0px 1px 3px 1px rgba(0, 0, 0, 0.15);\n",
              "      filter: drop-shadow(0px 1px 2px rgba(0, 0, 0, 0.3));\n",
              "      fill: #FFFFFF;\n",
              "    }\n",
              "  </style>\n",
              "\n",
              "      <script>\n",
              "        const buttonEl =\n",
              "          document.querySelector('#df-03b749a0-696e-45d0-ae87-fa7ec9688104 button.colab-df-convert');\n",
              "        buttonEl.style.display =\n",
              "          google.colab.kernel.accessAllowed ? 'block' : 'none';\n",
              "\n",
              "        async function convertToInteractive(key) {\n",
              "          const element = document.querySelector('#df-03b749a0-696e-45d0-ae87-fa7ec9688104');\n",
              "          const dataTable =\n",
              "            await google.colab.kernel.invokeFunction('convertToInteractive',\n",
              "                                                     [key], {});\n",
              "          if (!dataTable) return;\n",
              "\n",
              "          const docLinkHtml = 'Like what you see? Visit the ' +\n",
              "            '<a target=\"_blank\" href=https://colab.research.google.com/notebooks/data_table.ipynb>data table notebook</a>'\n",
              "            + ' to learn more about interactive tables.';\n",
              "          element.innerHTML = '';\n",
              "          dataTable['output_type'] = 'display_data';\n",
              "          await google.colab.output.renderOutput(dataTable, element);\n",
              "          const docLink = document.createElement('div');\n",
              "          docLink.innerHTML = docLinkHtml;\n",
              "          element.appendChild(docLink);\n",
              "        }\n",
              "      </script>\n",
              "    </div>\n",
              "  </div>\n",
              "  "
            ],
            "text/plain": [
              "          date  ...                               speaker_intervention\n",
              "0   2016-05-03  ...    (La séance est ouverte à quinze heures quinze.)\n",
              "1   2016-05-03  ...                      Il n’y a pas d’observation ?…\n",
              "2   2016-05-03  ...  Avant de passer au scrutin, je vais donner la ...\n",
              "3   2016-05-03  ...  La parole est à Mme Corinne Bouchoux, pour le ...\n",
              "4   2016-05-03  ...  Sur la base d’une méthode originale, les avis ...\n",
              "..         ...  ...                                                ...\n",
              "20  2008-01-09  ...  Le troisième constat, c'est que la voie du « r...\n",
              "21  2008-01-09  ...  M. Nicolas About, président de la commission d...\n",
              "22  2008-01-09  ...  Tout cela doit permettre de mettre en place ra...\n",
              "23  2008-01-09  ...  M. le président. La parole est à Mme le rappor...\n",
              "24  2008-01-09  ...  Cette réforme est ambitieuse, car ces deux org...\n",
              "\n",
              "[110808 rows x 6 columns]"
            ]
          },
          "metadata": {},
          "execution_count": 31
        }
      ]
    },
    {
      "cell_type": "markdown",
      "source": [
        "# Nobliity extraction : new feature\n",
        "\n",
        "We now extract nobility from the default dataset"
      ],
      "metadata": {
        "id": "k-cwDulTHrtk"
      }
    },
    {
      "cell_type": "code",
      "source": [
        "df['nobility'] = df.speaker_name.str.contains(' de ', case=True, regex=False)"
      ],
      "metadata": {
        "id": "EbfcXtUpHwaz"
      },
      "execution_count": null,
      "outputs": []
    },
    {
      "cell_type": "code",
      "source": [
        "df['str_len'] = df.speaker_name.str.len()"
      ],
      "metadata": {
        "id": "HOxBoZ7xIlQr"
      },
      "execution_count": null,
      "outputs": []
    },
    {
      "cell_type": "code",
      "source": [
        "df.str_len.describe()"
      ],
      "metadata": {
        "colab": {
          "base_uri": "https://localhost:8080/"
        },
        "id": "SGG_ZKe1IuBZ",
        "outputId": "fa7d9dbb-414a-44d9-ec0c-c30f2a072931"
      },
      "execution_count": null,
      "outputs": [
        {
          "output_type": "execute_result",
          "data": {
            "text/plain": [
              "count    110772.000000\n",
              "mean         18.401175\n",
              "std           5.675878\n",
              "min           2.000000\n",
              "25%          16.000000\n",
              "50%          17.000000\n",
              "75%          20.000000\n",
              "max         937.000000\n",
              "Name: str_len, dtype: float64"
            ]
          },
          "metadata": {},
          "execution_count": 34
        }
      ]
    },
    {
      "cell_type": "code",
      "source": [
        "df = df[df['str_len'] <= 25]"
      ],
      "metadata": {
        "id": "qUl9zI0wIzCp"
      },
      "execution_count": null,
      "outputs": []
    },
    {
      "cell_type": "code",
      "source": [
        "df[df['nobility'] == True].speaker_name.value_counts()"
      ],
      "metadata": {
        "colab": {
          "base_uri": "https://localhost:8080/"
        },
        "id": "g5DtwCyjIEn-",
        "outputId": "bf8598be-7164-4706-9325-5ca362969a3e"
      },
      "execution_count": null,
      "outputs": [
        {
          "output_type": "execute_result",
          "data": {
            "text/plain": [
              "M. Josselin de Rohan.        342\n",
              "M. Henri de Raincourt.       169\n",
              "M. Aymeri de Montesquiou.    163\n",
              "M. Henri de Richemont,       156\n",
              "M. Gilles de Robien,         142\n",
              "M. Louis de Broissia,         73\n",
              "M. Dominique de Villepin,     70\n",
              "M. Louis de Broissia.         51\n",
              "M. Henri de Richemont,        43\n",
              "M. Louis de Broissia          32\n",
              "M. François de Rugy,          28\n",
              "M. Josselin de Rohan.         24\n",
              "M. Henri de Raincourt,        22\n",
              "M. Arnaud de Belenet.         22\n",
              "M. Dominique de Legge.        20\n",
              "M. Aymeri de Montesquiou.     16\n",
              "Un sénateur de l'UMP.         13\n",
              "M. Josselin de Rohan,         11\n",
              "Mme Marta de Cidrac,          10\n",
              "M. Henri de Raincourt.         9\n",
              "Mme Amélie de Montchalin,      9\n",
              "Mme Marta de Cidrac.           7\n",
              "M. Aymeri de Montesquiou,      6\n",
              "M. Henri de Raincourt,         6\n",
              "M. Henri de Richemont.         5\n",
              "M. Louis-Jean de Nicolaÿ.      5\n",
              "Un sénateur de l’UMP.          5\n",
              "M. Louis de Broissia,          5\n",
              "M. Dominique de Legge.         5\n",
              "Mme Monique de Marco.          4\n",
              "M. Louis-Jean de Nicolaÿ.      4\n",
              "M. Josselin de Rohan           3\n",
              "M. Arnaud de Belenet,          3\n",
              "Mme Sonia de la Provôté.       3\n",
              "M. Henri de Richemont          2\n",
              "M. Gilles de Robien            1\n",
              "M. Louis-Jean de Nicolaÿ,      1\n",
              "M. Josselin de Rohan et        1\n",
              "Une sénatrice de l’UMP.        1\n",
              "M. Henri de Richemont          1\n",
              "M. Josselin de Rohan,          1\n",
              "MM. Josselin de Rohan          1\n",
              "M. Henri de Raincourt          1\n",
              "M. Dominique de Legge,         1\n",
              "MM. Henri de Raincourt.        1\n",
              "M. Henri de Richemont.         1\n",
              "M. Dominique de Legge,         1\n",
              "MM. Josselin de Rohan et       1\n",
              "M. Dominique de Villepin,      1\n",
              "Name: speaker_name, dtype: int64"
            ]
          },
          "metadata": {},
          "execution_count": 37
        }
      ]
    }
  ]
}