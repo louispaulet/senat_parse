{
  "nbformat": 4,
  "nbformat_minor": 0,
  "metadata": {
    "colab": {
      "name": "senat parse V2.ipynb",
      "provenance": [],
      "toc_visible": true
    },
    "kernelspec": {
      "name": "python3",
      "display_name": "Python 3"
    },
    "language_info": {
      "name": "python"
    },
    "widgets": {
      "application/vnd.jupyter.widget-state+json": {
        "537e5cdcad6b4e85af0b44c1ec514231": {
          "model_module": "@jupyter-widgets/controls",
          "model_name": "HBoxModel",
          "model_module_version": "1.5.0",
          "state": {
            "_view_name": "HBoxView",
            "_dom_classes": [],
            "_model_name": "HBoxModel",
            "_view_module": "@jupyter-widgets/controls",
            "_model_module_version": "1.5.0",
            "_view_count": null,
            "_view_module_version": "1.5.0",
            "box_style": "",
            "layout": "IPY_MODEL_04f9c6939dbe435784a57f98631a72bf",
            "_model_module": "@jupyter-widgets/controls",
            "children": [
              "IPY_MODEL_4eb9acc6523c412bb9ac8cd7c48d1763",
              "IPY_MODEL_a495ab6f860d46d4a97786b1e9ca9a99",
              "IPY_MODEL_7893eb8e42d544aea1ef94d63b39a6ab"
            ]
          }
        },
        "04f9c6939dbe435784a57f98631a72bf": {
          "model_module": "@jupyter-widgets/base",
          "model_name": "LayoutModel",
          "model_module_version": "1.2.0",
          "state": {
            "_view_name": "LayoutView",
            "grid_template_rows": null,
            "right": null,
            "justify_content": null,
            "_view_module": "@jupyter-widgets/base",
            "overflow": null,
            "_model_module_version": "1.2.0",
            "_view_count": null,
            "flex_flow": null,
            "width": null,
            "min_width": null,
            "border": null,
            "align_items": null,
            "bottom": null,
            "_model_module": "@jupyter-widgets/base",
            "top": null,
            "grid_column": null,
            "overflow_y": null,
            "overflow_x": null,
            "grid_auto_flow": null,
            "grid_area": null,
            "grid_template_columns": null,
            "flex": null,
            "_model_name": "LayoutModel",
            "justify_items": null,
            "grid_row": null,
            "max_height": null,
            "align_content": null,
            "visibility": null,
            "align_self": null,
            "height": null,
            "min_height": null,
            "padding": null,
            "grid_auto_rows": null,
            "grid_gap": null,
            "max_width": null,
            "order": null,
            "_view_module_version": "1.2.0",
            "grid_template_areas": null,
            "object_position": null,
            "object_fit": null,
            "grid_auto_columns": null,
            "margin": null,
            "display": null,
            "left": null
          }
        },
        "4eb9acc6523c412bb9ac8cd7c48d1763": {
          "model_module": "@jupyter-widgets/controls",
          "model_name": "HTMLModel",
          "model_module_version": "1.5.0",
          "state": {
            "_view_name": "HTMLView",
            "style": "IPY_MODEL_d6c329d279f3420ebbe4dc830d3610b6",
            "_dom_classes": [],
            "description": "",
            "_model_name": "HTMLModel",
            "placeholder": "​",
            "_view_module": "@jupyter-widgets/controls",
            "_model_module_version": "1.5.0",
            "value": "100%",
            "_view_count": null,
            "_view_module_version": "1.5.0",
            "description_tooltip": null,
            "_model_module": "@jupyter-widgets/controls",
            "layout": "IPY_MODEL_7d19bf1acb11432fa11d2b9155e8cb5d"
          }
        },
        "a495ab6f860d46d4a97786b1e9ca9a99": {
          "model_module": "@jupyter-widgets/controls",
          "model_name": "FloatProgressModel",
          "model_module_version": "1.5.0",
          "state": {
            "_view_name": "ProgressView",
            "style": "IPY_MODEL_ae05d97880894ba8a168a489b831c650",
            "_dom_classes": [],
            "description": "",
            "_model_name": "FloatProgressModel",
            "bar_style": "success",
            "max": 2374,
            "_view_module": "@jupyter-widgets/controls",
            "_model_module_version": "1.5.0",
            "value": 2374,
            "_view_count": null,
            "_view_module_version": "1.5.0",
            "orientation": "horizontal",
            "min": 0,
            "description_tooltip": null,
            "_model_module": "@jupyter-widgets/controls",
            "layout": "IPY_MODEL_18b51f8e182c49548d535acec8ef15cd"
          }
        },
        "7893eb8e42d544aea1ef94d63b39a6ab": {
          "model_module": "@jupyter-widgets/controls",
          "model_name": "HTMLModel",
          "model_module_version": "1.5.0",
          "state": {
            "_view_name": "HTMLView",
            "style": "IPY_MODEL_c9722871862847e28a28def35d5afe30",
            "_dom_classes": [],
            "description": "",
            "_model_name": "HTMLModel",
            "placeholder": "​",
            "_view_module": "@jupyter-widgets/controls",
            "_model_module_version": "1.5.0",
            "value": " 2374/2374 [18:39&lt;00:00,  2.00it/s]",
            "_view_count": null,
            "_view_module_version": "1.5.0",
            "description_tooltip": null,
            "_model_module": "@jupyter-widgets/controls",
            "layout": "IPY_MODEL_6568c94a58ab4786b653165cd6bf5ae2"
          }
        },
        "d6c329d279f3420ebbe4dc830d3610b6": {
          "model_module": "@jupyter-widgets/controls",
          "model_name": "DescriptionStyleModel",
          "model_module_version": "1.5.0",
          "state": {
            "_view_name": "StyleView",
            "_model_name": "DescriptionStyleModel",
            "description_width": "",
            "_view_module": "@jupyter-widgets/base",
            "_model_module_version": "1.5.0",
            "_view_count": null,
            "_view_module_version": "1.2.0",
            "_model_module": "@jupyter-widgets/controls"
          }
        },
        "7d19bf1acb11432fa11d2b9155e8cb5d": {
          "model_module": "@jupyter-widgets/base",
          "model_name": "LayoutModel",
          "model_module_version": "1.2.0",
          "state": {
            "_view_name": "LayoutView",
            "grid_template_rows": null,
            "right": null,
            "justify_content": null,
            "_view_module": "@jupyter-widgets/base",
            "overflow": null,
            "_model_module_version": "1.2.0",
            "_view_count": null,
            "flex_flow": null,
            "width": null,
            "min_width": null,
            "border": null,
            "align_items": null,
            "bottom": null,
            "_model_module": "@jupyter-widgets/base",
            "top": null,
            "grid_column": null,
            "overflow_y": null,
            "overflow_x": null,
            "grid_auto_flow": null,
            "grid_area": null,
            "grid_template_columns": null,
            "flex": null,
            "_model_name": "LayoutModel",
            "justify_items": null,
            "grid_row": null,
            "max_height": null,
            "align_content": null,
            "visibility": null,
            "align_self": null,
            "height": null,
            "min_height": null,
            "padding": null,
            "grid_auto_rows": null,
            "grid_gap": null,
            "max_width": null,
            "order": null,
            "_view_module_version": "1.2.0",
            "grid_template_areas": null,
            "object_position": null,
            "object_fit": null,
            "grid_auto_columns": null,
            "margin": null,
            "display": null,
            "left": null
          }
        },
        "ae05d97880894ba8a168a489b831c650": {
          "model_module": "@jupyter-widgets/controls",
          "model_name": "ProgressStyleModel",
          "model_module_version": "1.5.0",
          "state": {
            "_view_name": "StyleView",
            "_model_name": "ProgressStyleModel",
            "description_width": "",
            "_view_module": "@jupyter-widgets/base",
            "_model_module_version": "1.5.0",
            "_view_count": null,
            "_view_module_version": "1.2.0",
            "bar_color": null,
            "_model_module": "@jupyter-widgets/controls"
          }
        },
        "18b51f8e182c49548d535acec8ef15cd": {
          "model_module": "@jupyter-widgets/base",
          "model_name": "LayoutModel",
          "model_module_version": "1.2.0",
          "state": {
            "_view_name": "LayoutView",
            "grid_template_rows": null,
            "right": null,
            "justify_content": null,
            "_view_module": "@jupyter-widgets/base",
            "overflow": null,
            "_model_module_version": "1.2.0",
            "_view_count": null,
            "flex_flow": null,
            "width": null,
            "min_width": null,
            "border": null,
            "align_items": null,
            "bottom": null,
            "_model_module": "@jupyter-widgets/base",
            "top": null,
            "grid_column": null,
            "overflow_y": null,
            "overflow_x": null,
            "grid_auto_flow": null,
            "grid_area": null,
            "grid_template_columns": null,
            "flex": null,
            "_model_name": "LayoutModel",
            "justify_items": null,
            "grid_row": null,
            "max_height": null,
            "align_content": null,
            "visibility": null,
            "align_self": null,
            "height": null,
            "min_height": null,
            "padding": null,
            "grid_auto_rows": null,
            "grid_gap": null,
            "max_width": null,
            "order": null,
            "_view_module_version": "1.2.0",
            "grid_template_areas": null,
            "object_position": null,
            "object_fit": null,
            "grid_auto_columns": null,
            "margin": null,
            "display": null,
            "left": null
          }
        },
        "c9722871862847e28a28def35d5afe30": {
          "model_module": "@jupyter-widgets/controls",
          "model_name": "DescriptionStyleModel",
          "model_module_version": "1.5.0",
          "state": {
            "_view_name": "StyleView",
            "_model_name": "DescriptionStyleModel",
            "description_width": "",
            "_view_module": "@jupyter-widgets/base",
            "_model_module_version": "1.5.0",
            "_view_count": null,
            "_view_module_version": "1.2.0",
            "_model_module": "@jupyter-widgets/controls"
          }
        },
        "6568c94a58ab4786b653165cd6bf5ae2": {
          "model_module": "@jupyter-widgets/base",
          "model_name": "LayoutModel",
          "model_module_version": "1.2.0",
          "state": {
            "_view_name": "LayoutView",
            "grid_template_rows": null,
            "right": null,
            "justify_content": null,
            "_view_module": "@jupyter-widgets/base",
            "overflow": null,
            "_model_module_version": "1.2.0",
            "_view_count": null,
            "flex_flow": null,
            "width": null,
            "min_width": null,
            "border": null,
            "align_items": null,
            "bottom": null,
            "_model_module": "@jupyter-widgets/base",
            "top": null,
            "grid_column": null,
            "overflow_y": null,
            "overflow_x": null,
            "grid_auto_flow": null,
            "grid_area": null,
            "grid_template_columns": null,
            "flex": null,
            "_model_name": "LayoutModel",
            "justify_items": null,
            "grid_row": null,
            "max_height": null,
            "align_content": null,
            "visibility": null,
            "align_self": null,
            "height": null,
            "min_height": null,
            "padding": null,
            "grid_auto_rows": null,
            "grid_gap": null,
            "max_width": null,
            "order": null,
            "_view_module_version": "1.2.0",
            "grid_template_areas": null,
            "object_position": null,
            "object_fit": null,
            "grid_auto_columns": null,
            "margin": null,
            "display": null,
            "left": null
          }
        }
      }
    }
  },
  "cells": [
    {
      "cell_type": "markdown",
      "source": [
        "# Lib import"
      ],
      "metadata": {
        "id": "O3Kl7tvgXPXv"
      }
    },
    {
      "cell_type": "code",
      "source": [
        "import pandas as pd\n",
        "import numpy as np"
      ],
      "metadata": {
        "id": "WdFFVOuNHizV"
      },
      "execution_count": null,
      "outputs": []
    },
    {
      "cell_type": "markdown",
      "source": [
        "# Data import"
      ],
      "metadata": {
        "id": "pmpgybVMXSuO"
      }
    },
    {
      "cell_type": "code",
      "execution_count": null,
      "metadata": {
        "id": "A87CUQ1GHVoC"
      },
      "outputs": [],
      "source": [
        "import pathlib\n",
        "\n",
        "filename_list = list(pathlib.Path('/content/drive/MyDrive/Colab Notebooks/ressources/senat_parse/').glob('*.txt'))"
      ]
    },
    {
      "cell_type": "code",
      "source": [
        "len(filename_list)"
      ],
      "metadata": {
        "colab": {
          "base_uri": "https://localhost:8080/"
        },
        "id": "Fc4zO5WHIMz_",
        "outputId": "9f624521-fdbc-423e-d880-3b09a7ef70da"
      },
      "execution_count": null,
      "outputs": [
        {
          "output_type": "execute_result",
          "data": {
            "text/plain": [
              "2374"
            ]
          },
          "metadata": {},
          "execution_count": 6
        }
      ]
    },
    {
      "cell_type": "markdown",
      "source": [
        "# Single intervention parsing"
      ],
      "metadata": {
        "id": "jPs96le9XV5q"
      }
    },
    {
      "cell_type": "code",
      "source": [
        "#debug restricted space\n",
        "filename = filename_list[0]"
      ],
      "metadata": {
        "id": "8jLbIAonM9Yz"
      },
      "execution_count": null,
      "outputs": []
    },
    {
      "cell_type": "code",
      "source": [
        "def clean_text(input_string):\n",
        "  return input_string.replace('\\n', ' ').replace('\\r', ' ').strip()"
      ],
      "metadata": {
        "id": "0vB7C0YJ4k0q"
      },
      "execution_count": null,
      "outputs": []
    },
    {
      "cell_type": "code",
      "source": [
        "def parse_filename_html_to_df(filename):\n",
        "  #get date from filename\n",
        "  x = re.search('[0-9]{4}[0-9]{2}[0-9]{2}', str(filename))\n",
        "  date_string = x.group()\n",
        "  date_string = pd.to_datetime(date_string)\n",
        "\n",
        "  #open a file\n",
        "  with open(filename) as file:  \n",
        "    data = file.read() \n",
        "\n",
        "  #parse HTML to search tags and classes\n",
        "  from bs4 import BeautifulSoup\n",
        "  html_text = data\n",
        "  soup = BeautifulSoup(html_text, 'html.parser')\n",
        "  soup.find_all('intervenant')\n",
        "\n",
        "  #parse each intervention to create rows\n",
        "  row_list = []\n",
        "  for intervention in soup.find_all(\"div\", {\"class\": \"intervenant\"}):\n",
        "    \n",
        "    #speaker section\n",
        "    speaker_info = intervention.find(\"span\", {\"class\": \"orateur_nom\"})\n",
        "    \n",
        "    speaker_name = speaker_info.get_text().strip() if speaker_info else \"name not found\"\n",
        "    speaker_name = clean_text(speaker_name)\n",
        "    \n",
        "    speaker_link = speaker_info.find(\"a\", href=True).attrs['href'] if (speaker_info.find(\"a\", href=True) if speaker_info else None) else 'N/A'\n",
        "\n",
        "    speaker_quality = intervention.find(\"span\", {\"class\": \"orateur_qualite\"})\n",
        "    speaker_quality = speaker_quality.get_text() if speaker_quality else \"N/A\"\n",
        "    # speaker_quality = speaker_quality.replace('\\n', ' ').replace('\\r', ' ').strip()\n",
        "    speaker_quality = clean_text(speaker_quality)\n",
        "\n",
        "    #intervention content\n",
        "    intervention_text = intervention.find('p', text=True, recursive=False).get_text() if intervention.find('p', text=True, recursive=False) else intervention.get_text()\n",
        "    intervention_text = clean_text(intervention_text)\n",
        "    row_list.append([speaker_name, speaker_quality, speaker_link, intervention_text])\n",
        "    \n",
        "    # debug only\n",
        "    # print(speaker_name, speaker_quality, speaker_link, intervention_text)\n",
        "\n",
        "  #early double return\n",
        "  if len(row_list) == 0:\n",
        "    did_work = False\n",
        "    complete_debate = False\n",
        "    return did_work, complete_debate\n",
        "\n",
        "  #convert to df and rename cols\n",
        "  parsed_intervention = pd.DataFrame(row_list)\n",
        "  parsed_intervention.columns = ['speaker_name', 'speaker_quality', 'speaker_link', 'speaker_intervention']\n",
        "  # add general meta data to all records\n",
        "  parsed_intervention['title'] = soup.find('title').get_text()\n",
        "  parsed_intervention['date'] = date_string\n",
        "  #reorder columns\n",
        "  parsed_intervention = parsed_intervention[['date', 'title', 'speaker_name', 'speaker_quality', 'speaker_link', 'speaker_intervention']]\n",
        "  \n",
        "  #double return\n",
        "  did_work = True\n",
        "  complete_debate = parsed_intervention\n",
        "  return did_work, complete_debate\n",
        "\n",
        "parsed_intervention = parse_filename_html_to_df(filename)"
      ],
      "metadata": {
        "id": "Ym8ob9TuuyZl"
      },
      "execution_count": null,
      "outputs": []
    },
    {
      "cell_type": "code",
      "source": [
        "parsed_intervention"
      ],
      "metadata": {
        "id": "df6M6L-n2k9t"
      },
      "execution_count": null,
      "outputs": []
    },
    {
      "cell_type": "markdown",
      "source": [
        "# Complete parse of all interventions"
      ],
      "metadata": {
        "id": "ZOwnlEw_XZPK"
      }
    },
    {
      "cell_type": "code",
      "source": [
        "from tqdm.auto import tqdm"
      ],
      "metadata": {
        "id": "NLmv-06Y5Tmw"
      },
      "execution_count": null,
      "outputs": []
    },
    {
      "cell_type": "code",
      "source": [
        "debate_df_list = []\n",
        "for filename in tqdm(filename_list):\n",
        "  did_work, complete_debate = parse_filename_html_to_df(filename)\n",
        "  if (did_work):\n",
        "    debate_df_list.append(complete_debate) "
      ],
      "metadata": {
        "colab": {
          "base_uri": "https://localhost:8080/",
          "height": 49,
          "referenced_widgets": [
            "537e5cdcad6b4e85af0b44c1ec514231",
            "04f9c6939dbe435784a57f98631a72bf",
            "4eb9acc6523c412bb9ac8cd7c48d1763",
            "a495ab6f860d46d4a97786b1e9ca9a99",
            "7893eb8e42d544aea1ef94d63b39a6ab",
            "d6c329d279f3420ebbe4dc830d3610b6",
            "7d19bf1acb11432fa11d2b9155e8cb5d",
            "ae05d97880894ba8a168a489b831c650",
            "18b51f8e182c49548d535acec8ef15cd",
            "c9722871862847e28a28def35d5afe30",
            "6568c94a58ab4786b653165cd6bf5ae2"
          ]
        },
        "id": "T44NRJ1O4G9a",
        "outputId": "332e307c-6398-4351-8a9f-2a9f3819163c"
      },
      "execution_count": null,
      "outputs": [
        {
          "output_type": "display_data",
          "data": {
            "application/vnd.jupyter.widget-view+json": {
              "model_id": "537e5cdcad6b4e85af0b44c1ec514231",
              "version_minor": 0,
              "version_major": 2
            },
            "text/plain": [
              "  0%|          | 0/2374 [00:00<?, ?it/s]"
            ]
          },
          "metadata": {}
        }
      ]
    },
    {
      "cell_type": "code",
      "source": [
        "complete_debate_database = pd.concat(debate_df_list)"
      ],
      "metadata": {
        "id": "iyxW9gpF-ge4"
      },
      "execution_count": null,
      "outputs": []
    },
    {
      "cell_type": "code",
      "source": [
        "complete_debate_database"
      ],
      "metadata": {
        "colab": {
          "base_uri": "https://localhost:8080/",
          "height": 641
        },
        "id": "qa4cKjf5COix",
        "outputId": "6b0170b9-ef65-491b-da1a-7cfa37a6b510"
      },
      "execution_count": null,
      "outputs": [
        {
          "output_type": "execute_result",
          "data": {
            "text/html": [
              "\n",
              "  <div id=\"df-497d6dcf-7b9e-4afd-932b-c70b953de859\">\n",
              "    <div class=\"colab-df-container\">\n",
              "      <div>\n",
              "<style scoped>\n",
              "    .dataframe tbody tr th:only-of-type {\n",
              "        vertical-align: middle;\n",
              "    }\n",
              "\n",
              "    .dataframe tbody tr th {\n",
              "        vertical-align: top;\n",
              "    }\n",
              "\n",
              "    .dataframe thead th {\n",
              "        text-align: right;\n",
              "    }\n",
              "</style>\n",
              "<table border=\"1\" class=\"dataframe\">\n",
              "  <thead>\n",
              "    <tr style=\"text-align: right;\">\n",
              "      <th></th>\n",
              "      <th>date</th>\n",
              "      <th>title</th>\n",
              "      <th>speaker_name</th>\n",
              "      <th>speaker_quality</th>\n",
              "      <th>speaker_link</th>\n",
              "      <th>speaker_intervention</th>\n",
              "    </tr>\n",
              "  </thead>\n",
              "  <tbody>\n",
              "    <tr>\n",
              "      <th>0</th>\n",
              "      <td>2016-05-03</td>\n",
              "      <td>Séance du 3 mai 2016 (compte rendu intégral de...</td>\n",
              "      <td>M. le président.</td>\n",
              "      <td>N/A</td>\n",
              "      <td>/senateur/larcher_gerard86034e.html</td>\n",
              "      <td>(La séance est ouverte à quinze heures quinze.)</td>\n",
              "    </tr>\n",
              "    <tr>\n",
              "      <th>1</th>\n",
              "      <td>2016-05-03</td>\n",
              "      <td>Séance du 3 mai 2016 (compte rendu intégral de...</td>\n",
              "      <td>M. le président</td>\n",
              "      <td>N/A</td>\n",
              "      <td>/senateur/larcher_gerard86034e.html</td>\n",
              "      <td>Il n’y a pas d’observation ?…</td>\n",
              "    </tr>\n",
              "    <tr>\n",
              "      <th>2</th>\n",
              "      <td>2016-05-03</td>\n",
              "      <td>Séance du 3 mai 2016 (compte rendu intégral de...</td>\n",
              "      <td>M. le président.</td>\n",
              "      <td>N/A</td>\n",
              "      <td>/senateur/larcher_gerard86034e.html</td>\n",
              "      <td>Avant de passer au scrutin, je vais donner la ...</td>\n",
              "    </tr>\n",
              "    <tr>\n",
              "      <th>3</th>\n",
              "      <td>2016-05-03</td>\n",
              "      <td>Séance du 3 mai 2016 (compte rendu intégral de...</td>\n",
              "      <td>M. le président.</td>\n",
              "      <td>N/A</td>\n",
              "      <td>/senateur/larcher_gerard86034e.html</td>\n",
              "      <td>La parole est à Mme Corinne Bouchoux, pour le ...</td>\n",
              "    </tr>\n",
              "    <tr>\n",
              "      <th>4</th>\n",
              "      <td>2016-05-03</td>\n",
              "      <td>Séance du 3 mai 2016 (compte rendu intégral de...</td>\n",
              "      <td>Mme Corinne Bouchoux.</td>\n",
              "      <td>N/A</td>\n",
              "      <td>/senateur/bouchoux_corinne11029k.html</td>\n",
              "      <td>Sur la base d’une méthode originale, les avis ...</td>\n",
              "    </tr>\n",
              "    <tr>\n",
              "      <th>...</th>\n",
              "      <td>...</td>\n",
              "      <td>...</td>\n",
              "      <td>...</td>\n",
              "      <td>...</td>\n",
              "      <td>...</td>\n",
              "      <td>...</td>\n",
              "    </tr>\n",
              "    <tr>\n",
              "      <th>20</th>\n",
              "      <td>2008-01-09</td>\n",
              "      <td>Séance du 9 janvier 2008 (compte rendu intégra...</td>\n",
              "      <td>Mme Christine Lagarde,</td>\n",
              "      <td>ministre.</td>\n",
              "      <td>N/A</td>\n",
              "      <td>Le troisième constat, c'est que la voie du « r...</td>\n",
              "    </tr>\n",
              "    <tr>\n",
              "      <th>21</th>\n",
              "      <td>2008-01-09</td>\n",
              "      <td>Séance du 9 janvier 2008 (compte rendu intégra...</td>\n",
              "      <td>M. Nicolas About,</td>\n",
              "      <td>président de la commission des affaires sociales.</td>\n",
              "      <td>/senfic/about_nicolas95004y.html</td>\n",
              "      <td>M. Nicolas About, président de la commission d...</td>\n",
              "    </tr>\n",
              "    <tr>\n",
              "      <th>22</th>\n",
              "      <td>2008-01-09</td>\n",
              "      <td>Séance du 9 janvier 2008 (compte rendu intégra...</td>\n",
              "      <td>Mme Christine Lagarde,</td>\n",
              "      <td>ministre.</td>\n",
              "      <td>N/A</td>\n",
              "      <td>Tout cela doit permettre de mettre en place ra...</td>\n",
              "    </tr>\n",
              "    <tr>\n",
              "      <th>23</th>\n",
              "      <td>2008-01-09</td>\n",
              "      <td>Séance du 9 janvier 2008 (compte rendu intégra...</td>\n",
              "      <td>M. le président.</td>\n",
              "      <td>N/A</td>\n",
              "      <td>/senfic/gouteyron_adrien78006d.html</td>\n",
              "      <td>M. le président. La parole est à Mme le rappor...</td>\n",
              "    </tr>\n",
              "    <tr>\n",
              "      <th>24</th>\n",
              "      <td>2008-01-09</td>\n",
              "      <td>Séance du 9 janvier 2008 (compte rendu intégra...</td>\n",
              "      <td>Mme Catherine Procaccia,</td>\n",
              "      <td>rapporteur de la commission des affaires socia...</td>\n",
              "      <td>/senfic/procaccia_catherine04043d.html</td>\n",
              "      <td>Cette réforme est ambitieuse, car ces deux org...</td>\n",
              "    </tr>\n",
              "  </tbody>\n",
              "</table>\n",
              "<p>110808 rows × 6 columns</p>\n",
              "</div>\n",
              "      <button class=\"colab-df-convert\" onclick=\"convertToInteractive('df-497d6dcf-7b9e-4afd-932b-c70b953de859')\"\n",
              "              title=\"Convert this dataframe to an interactive table.\"\n",
              "              style=\"display:none;\">\n",
              "        \n",
              "  <svg xmlns=\"http://www.w3.org/2000/svg\" height=\"24px\"viewBox=\"0 0 24 24\"\n",
              "       width=\"24px\">\n",
              "    <path d=\"M0 0h24v24H0V0z\" fill=\"none\"/>\n",
              "    <path d=\"M18.56 5.44l.94 2.06.94-2.06 2.06-.94-2.06-.94-.94-2.06-.94 2.06-2.06.94zm-11 1L8.5 8.5l.94-2.06 2.06-.94-2.06-.94L8.5 2.5l-.94 2.06-2.06.94zm10 10l.94 2.06.94-2.06 2.06-.94-2.06-.94-.94-2.06-.94 2.06-2.06.94z\"/><path d=\"M17.41 7.96l-1.37-1.37c-.4-.4-.92-.59-1.43-.59-.52 0-1.04.2-1.43.59L10.3 9.45l-7.72 7.72c-.78.78-.78 2.05 0 2.83L4 21.41c.39.39.9.59 1.41.59.51 0 1.02-.2 1.41-.59l7.78-7.78 2.81-2.81c.8-.78.8-2.07 0-2.86zM5.41 20L4 18.59l7.72-7.72 1.47 1.35L5.41 20z\"/>\n",
              "  </svg>\n",
              "      </button>\n",
              "      \n",
              "  <style>\n",
              "    .colab-df-container {\n",
              "      display:flex;\n",
              "      flex-wrap:wrap;\n",
              "      gap: 12px;\n",
              "    }\n",
              "\n",
              "    .colab-df-convert {\n",
              "      background-color: #E8F0FE;\n",
              "      border: none;\n",
              "      border-radius: 50%;\n",
              "      cursor: pointer;\n",
              "      display: none;\n",
              "      fill: #1967D2;\n",
              "      height: 32px;\n",
              "      padding: 0 0 0 0;\n",
              "      width: 32px;\n",
              "    }\n",
              "\n",
              "    .colab-df-convert:hover {\n",
              "      background-color: #E2EBFA;\n",
              "      box-shadow: 0px 1px 2px rgba(60, 64, 67, 0.3), 0px 1px 3px 1px rgba(60, 64, 67, 0.15);\n",
              "      fill: #174EA6;\n",
              "    }\n",
              "\n",
              "    [theme=dark] .colab-df-convert {\n",
              "      background-color: #3B4455;\n",
              "      fill: #D2E3FC;\n",
              "    }\n",
              "\n",
              "    [theme=dark] .colab-df-convert:hover {\n",
              "      background-color: #434B5C;\n",
              "      box-shadow: 0px 1px 3px 1px rgba(0, 0, 0, 0.15);\n",
              "      filter: drop-shadow(0px 1px 2px rgba(0, 0, 0, 0.3));\n",
              "      fill: #FFFFFF;\n",
              "    }\n",
              "  </style>\n",
              "\n",
              "      <script>\n",
              "        const buttonEl =\n",
              "          document.querySelector('#df-497d6dcf-7b9e-4afd-932b-c70b953de859 button.colab-df-convert');\n",
              "        buttonEl.style.display =\n",
              "          google.colab.kernel.accessAllowed ? 'block' : 'none';\n",
              "\n",
              "        async function convertToInteractive(key) {\n",
              "          const element = document.querySelector('#df-497d6dcf-7b9e-4afd-932b-c70b953de859');\n",
              "          const dataTable =\n",
              "            await google.colab.kernel.invokeFunction('convertToInteractive',\n",
              "                                                     [key], {});\n",
              "          if (!dataTable) return;\n",
              "\n",
              "          const docLinkHtml = 'Like what you see? Visit the ' +\n",
              "            '<a target=\"_blank\" href=https://colab.research.google.com/notebooks/data_table.ipynb>data table notebook</a>'\n",
              "            + ' to learn more about interactive tables.';\n",
              "          element.innerHTML = '';\n",
              "          dataTable['output_type'] = 'display_data';\n",
              "          await google.colab.output.renderOutput(dataTable, element);\n",
              "          const docLink = document.createElement('div');\n",
              "          docLink.innerHTML = docLinkHtml;\n",
              "          element.appendChild(docLink);\n",
              "        }\n",
              "      </script>\n",
              "    </div>\n",
              "  </div>\n",
              "  "
            ],
            "text/plain": [
              "         date  ...                               speaker_intervention\n",
              "0  2016-05-03  ...    (La séance est ouverte à quinze heures quinze.)\n",
              "1  2016-05-03  ...                      Il n’y a pas d’observation ?…\n",
              "2  2016-05-03  ...  Avant de passer au scrutin, je vais donner la ...\n",
              "3  2016-05-03  ...  La parole est à Mme Corinne Bouchoux, pour le ...\n",
              "4  2016-05-03  ...  Sur la base d’une méthode originale, les avis ...\n",
              "..        ...  ...                                                ...\n",
              "20 2008-01-09  ...  Le troisième constat, c'est que la voie du « r...\n",
              "21 2008-01-09  ...  M. Nicolas About, président de la commission d...\n",
              "22 2008-01-09  ...  Tout cela doit permettre de mettre en place ra...\n",
              "23 2008-01-09  ...  M. le président. La parole est à Mme le rappor...\n",
              "24 2008-01-09  ...  Cette réforme est ambitieuse, car ces deux org...\n",
              "\n",
              "[110808 rows x 6 columns]"
            ]
          },
          "metadata": {},
          "execution_count": 165
        }
      ]
    },
    {
      "cell_type": "markdown",
      "source": [
        "# Export to csv\n",
        "\n",
        "As the number of samples is reasonable, we export as a simple CSV file"
      ],
      "metadata": {
        "id": "tHsq9nBoEkqW"
      }
    },
    {
      "cell_type": "code",
      "source": [
        "complete_debate_database.to_csv('/content/drive/MyDrive/Colab Notebooks/ressources/senat_parse/complete_database/complete_debate_database.csv', sep=';', encoding='utf-8')"
      ],
      "metadata": {
        "id": "xXBmfwMQCaqq"
      },
      "execution_count": null,
      "outputs": []
    }
  ]
}